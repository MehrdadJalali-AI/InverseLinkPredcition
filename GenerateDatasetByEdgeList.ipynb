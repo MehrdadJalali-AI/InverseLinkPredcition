{
  "nbformat": 4,
  "nbformat_minor": 0,
  "metadata": {
    "colab": {
      "provenance": [],
      "authorship_tag": "ABX9TyPMvVzNUqb0m7fpEnMKYX1T",
      "include_colab_link": true
    },
    "kernelspec": {
      "name": "python3",
      "display_name": "Python 3"
    },
    "language_info": {
      "name": "python"
    }
  },
  "cells": [
    {
      "cell_type": "markdown",
      "metadata": {
        "id": "view-in-github",
        "colab_type": "text"
      },
      "source": [
        "<a href=\"https://colab.research.google.com/github/MehrdadJalali-KIT/InverseLinkPredcition/blob/main/GenerateDatasetByEdgeList.ipynb\" target=\"_parent\"><img src=\"https://colab.research.google.com/assets/colab-badge.svg\" alt=\"Open In Colab\"/></a>"
      ]
    },
    {
      "cell_type": "code",
      "execution_count": 6,
      "metadata": {
        "colab": {
          "base_uri": "https://localhost:8080/"
        },
        "id": "s_MW7nFeoiZE",
        "outputId": "f821d4fd-2d1b-4ed2-cdfc-50c304577b10"
      },
      "outputs": [
        {
          "output_type": "stream",
          "name": "stdout",
          "text": [
            "Unique node labels: 6514\n",
            "Filtered summary data:\n",
            " 6514\n"
          ]
        }
      ],
      "source": [
        "import pandas as pd\n",
        "import numpy as np\n",
        "\n",
        "def main():\n",
        "    # Define the filenames\n",
        "    edges_list_filename = 'sparsified_graph_edges_0.95.csv'\n",
        "    summary_data_filename = '1M1L3D_summary.csv'\n",
        "\n",
        "    # Load the edge list from the CSV file\n",
        "    edges_list = pd.read_csv(edges_list_filename, header=None, names=['source', 'target', 'weight'], delimiter=' ')\n",
        "\n",
        "    # Extract unique node labels from the edge list\n",
        "    node_labels_source = edges_list['source'].astype(str).unique()\n",
        "    node_labels_target = edges_list['target'].astype(str).unique()\n",
        "    node_labels = np.concatenate((node_labels_source, node_labels_target))\n",
        "    node_labels = np.unique(node_labels)\n",
        "\n",
        "    # Remove any duplicate labels\n",
        "    node_labels = list(set(node_labels))\n",
        "\n",
        "    # Debug print statement\n",
        "    print(\"Unique node labels:\", len(node_labels))\n",
        "\n",
        "    # Load summary data\n",
        "    summary_data = pd.read_csv(summary_data_filename)\n",
        "\n",
        "    # Filter summary data based on node labels\n",
        "    summary_data_filtered = summary_data[summary_data['refcode'].isin(node_labels)]\n",
        "\n",
        "    # Debug print statement to check contents of filtered summary data\n",
        "    print(\"Filtered summary data:\\n\", len(summary_data_filtered))\n",
        "\n",
        "    # Write filtered summary data to a new CSV file\n",
        "    summary_data_filtered.to_csv('Dataset_Sparcified_0.95.csv', index=False)\n",
        "\n",
        "if __name__ == \"__main__\":\n",
        "    main()\n"
      ]
    },
    {
      "cell_type": "code",
      "source": [
        "# Mount drive\n",
        "from google.colab import drive\n",
        "import os\n",
        "\n",
        "drive.mount('/content/drive')\n",
        "# Change working path\n",
        "os.chdir('/content/drive/MyDrive/Research/MOF/InverseLinkPredcition')"
      ],
      "metadata": {
        "colab": {
          "base_uri": "https://localhost:8080/"
        },
        "id": "U02kKjMzoyCm",
        "outputId": "97c3ea56-6cba-4898-a2db-8c228b101c6b"
      },
      "execution_count": 1,
      "outputs": [
        {
          "output_type": "stream",
          "name": "stdout",
          "text": [
            "Mounted at /content/drive\n"
          ]
        }
      ]
    }
  ]
}