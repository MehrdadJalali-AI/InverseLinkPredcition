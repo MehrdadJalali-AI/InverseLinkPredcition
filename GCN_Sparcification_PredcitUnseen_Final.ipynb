{
  "cells": [
    {
      "cell_type": "markdown",
      "metadata": {
        "id": "view-in-github",
        "colab_type": "text"
      },
      "source": [
        "<a href=\"https://colab.research.google.com/github/MehrdadJalali-KIT/InverseLinkPredcition/blob/main/GCN_Sparcification_PredcitUnseen_Final.ipynb\" target=\"_parent\"><img src=\"https://colab.research.google.com/assets/colab-badge.svg\" alt=\"Open In Colab\"/></a>"
      ]
    },
    {
      "cell_type": "code",
      "execution_count": 1,
      "metadata": {
        "colab": {
          "base_uri": "https://localhost:8080/"
        },
        "id": "gH5iPO3GCP4w",
        "outputId": "392e1340-bda2-4836-8870-3b28f37dc335"
      },
      "outputs": [
        {
          "output_type": "stream",
          "name": "stdout",
          "text": [
            "Collecting rdkit\n",
            "  Downloading rdkit-2023.9.5-cp310-cp310-manylinux_2_17_x86_64.manylinux2014_x86_64.whl (34.4 MB)\n",
            "\u001b[2K     \u001b[90m━━━━━━━━━━━━━━━━━━━━━━━━━━━━━━━━━━━━━━━━\u001b[0m \u001b[32m34.4/34.4 MB\u001b[0m \u001b[31m24.5 MB/s\u001b[0m eta \u001b[36m0:00:00\u001b[0m\n",
            "\u001b[?25hRequirement already satisfied: numpy in /usr/local/lib/python3.10/dist-packages (from rdkit) (1.25.2)\n",
            "Requirement already satisfied: Pillow in /usr/local/lib/python3.10/dist-packages (from rdkit) (9.4.0)\n",
            "Installing collected packages: rdkit\n",
            "Successfully installed rdkit-2023.9.5\n"
          ]
        }
      ],
      "source": [
        "!pip install rdkit"
      ]
    },
    {
      "cell_type": "code",
      "execution_count": 2,
      "metadata": {
        "id": "Mp7VvNXRCSWw",
        "colab": {
          "base_uri": "https://localhost:8080/"
        },
        "outputId": "09e26dee-ab51-4154-f4f0-0a313c343133"
      },
      "outputs": [
        {
          "output_type": "stream",
          "name": "stdout",
          "text": [
            "Mounted at /content/drive\n"
          ]
        }
      ],
      "source": [
        "# Mount drive\n",
        "from google.colab import drive\n",
        "import os\n",
        "\n",
        "drive.mount('/content/drive')\n",
        "# Change working path\n",
        "os.chdir('/content/drive/MyDrive/Research/MOF/InverseLinkPredcition')"
      ]
    },
    {
      "cell_type": "code",
      "source": [
        "import pandas as pd\n",
        "import numpy as np\n",
        "import networkx as nx\n",
        "from rdkit import Chem\n",
        "from rdkit.Chem import AllChem\n",
        "from tensorflow.keras.models import load_model\n",
        "def generate_fingerprint(smiles):\n",
        "    \"\"\"Generates a molecular fingerprint given a SMILES string.\"\"\"\n",
        "    try:\n",
        "        mol = Chem.MolFromSmiles(smiles)\n",
        "        if mol:\n",
        "            return np.array(AllChem.GetMorganFingerprintAsBitVect(mol, 2, nBits=1024), dtype=float)\n",
        "    except:\n",
        "        return np.zeros((1024,), dtype=float)\n",
        "\n",
        "def label_encode_metal_names(metal_names):\n",
        "    \"\"\"Encodes metal names as integers.\"\"\"\n",
        "    metal_dict = {metal: idx for idx, metal in enumerate(np.unique(metal_names))}\n",
        "    return np.array([metal_dict[metal] for metal in metal_names])\n",
        "\n",
        "def preprocess_new_data(new_data):\n",
        "    \"\"\"Preprocesses new data for prediction.\"\"\"\n",
        "    linker_smiles = new_data['linker SMILES'].dropna().apply(generate_fingerprint)\n",
        "    metal_names = new_data['metal']\n",
        "\n",
        "    # Encode metal names without needing the metal dictionary\n",
        "    metal_features = label_encode_metal_names(metal_names).reshape(-1, 1)\n",
        "\n",
        "    other_features = new_data[['Largest Cavity Diameter', 'Largest Free Sphere']].values.astype('float32')\n",
        "    features = np.concatenate((linker_smiles.values.tolist(), metal_features, other_features), axis=1)\n",
        "    return features\n",
        "\n",
        "# Load the previously saved model\n",
        "model = load_model('gcn_model_0.9.h5')\n",
        "\n",
        "# Assuming new_data is a DataFrame similar to the training summary_data\n",
        "new_data = pd.read_csv('new_data.csv')\n",
        "\n",
        "\n",
        "# Preprocess the new data\n",
        "features = preprocess_new_data(new_data)\n",
        "\n",
        "\n",
        "adjacency_matrix = np.load('adjacency_matrix_0.9.npy')\n"
      ],
      "metadata": {
        "id": "-Z5WcdWkE9Ja"
      },
      "execution_count": 76,
      "outputs": []
    },
    {
      "cell_type": "code",
      "source": [
        "# Assuming that the number of nodes in adjacency_matrix is correct\n",
        "num_nodes = adjacency_matrix.shape[0]\n",
        "if features.shape[0] < num_nodes:\n",
        "    # Pad the feature matrix with zeros\n",
        "    padding = np.zeros((num_nodes - features.shape[0], features.shape[1]))\n",
        "    features = np.vstack([features, padding])\n",
        "\n",
        "predictions = model.predict([features, adjacency_matrix])\n",
        "predicted_labels = np.argmax(predictions, axis=1)\n",
        "\n"
      ],
      "metadata": {
        "colab": {
          "base_uri": "https://localhost:8080/"
        },
        "id": "-An9a40wFC25",
        "outputId": "282d9f2a-4b63-4a03-a2f6-bbeccb2f33d5"
      },
      "execution_count": 77,
      "outputs": [
        {
          "output_type": "stream",
          "name": "stdout",
          "text": [
            "283/283 [==============================] - 1s 5ms/step\n"
          ]
        }
      ]
    },
    {
      "cell_type": "code",
      "source": [
        "label_dict = {0: 'nonporous', 1: 'small pore', 2: 'medium pore', 3: 'large pore'}\n",
        "# Assuming the number of rows in new_data corresponds to the number of new instances\n",
        "num_new_instances = new_data.shape[0]\n",
        "\n",
        "# Extract labels only for the new instances\n",
        "predicted_labels_new = predicted_labels[:num_new_instances]\n",
        "\n",
        "# Map integer labels to readable labels\n",
        "readable_labels_new = [label_dict[label] for label in predicted_labels_new]\n",
        "\n",
        "# Printing features and corresponding labels\n",
        "for i in range(num_new_instances):\n",
        "    print(\"Features:\", features[i])\n",
        "    print(\"Predicted Label:\", readable_labels_new[i])\n",
        "    print()\n",
        "\n"
      ],
      "metadata": {
        "colab": {
          "base_uri": "https://localhost:8080/"
        },
        "id": "PwB6V9h-GBt3",
        "outputId": "828fc087-86f7-460b-ae49-a9cf7ac76724"
      },
      "execution_count": 78,
      "outputs": [
        {
          "output_type": "stream",
          "name": "stdout",
          "text": [
            "Features: [ 0.          0.          0.         ...  1.         27.74954033\n",
            " 27.7488308 ]\n",
            "Predicted Label: large pore\n",
            "\n",
            "Features: [0.      0.      0.      ... 3.      8.58041 8.58041]\n",
            "Predicted Label: small pore\n",
            "\n",
            "Features: [0.         0.         0.         ... 0.         5.64118004 5.64118004]\n",
            "Predicted Label: small pore\n",
            "\n",
            "Features: [ 0.          0.          0.         ...  2.         11.39286041\n",
            " 11.39286041]\n",
            "Predicted Label: small pore\n",
            "\n"
          ]
        }
      ]
    },
    {
      "cell_type": "markdown",
      "source": [
        "Features: [ 0.          0.          0.         ...  1.         27.74954033\n",
        " 27.7488308 ]\n",
        "Predicted Label: large pore\n",
        "\n",
        "Features: [0.      0.      0.      ... 3.      8.58041 8.58041]\n",
        "Predicted Label: large pore\n",
        "\n",
        "Features: [0.         0.         0.         ... 0.         5.64118004 5.64118004]\n",
        "Predicted Label: small pore\n",
        "\n",
        "Features: [ 0.          0.          0.         ...  2.         11.39286041\n",
        " 11.39286041]\n",
        "Predicted Label: small pore    **for original**"
      ],
      "metadata": {
        "id": "yWKqoQMUapuA"
      }
    },
    {
      "cell_type": "markdown",
      "source": [
        "Features: [ 0.          0.          0.         ...  1.         27.74954033\n",
        " 27.7488308 ]\n",
        "Predicted Label: large pore\n",
        "\n",
        "Features: [0.      0.      0.      ... 3.      8.58041 8.58041]\n",
        "Predicted Label: small pore\n",
        "\n",
        "Features: [0.         0.         0.         ... 0.         5.64118004 5.64118004]\n",
        "Predicted Label: small pore\n",
        "\n",
        "Features: [ 0.          0.          0.         ...  2.         11.39286041\n",
        " 11.39286041]\n",
        "Predicted Label: small pore   **for 0.9**"
      ],
      "metadata": {
        "id": "uBqZcOCief7S"
      }
    },
    {
      "cell_type": "markdown",
      "source": [
        "Features: [ 0.          0.          0.         ...  1.         27.74954033\n",
        " 27.7488308 ]\n",
        "Predicted Label: large pore\n",
        "\n",
        "Features: [0.      0.      0.      ... 3.      8.58041 8.58041]\n",
        "Predicted Label: medium pore\n",
        "\n",
        "Features: [0.         0.         0.         ... 0.         5.64118004 5.64118004]\n",
        "Predicted Label: small pore\n",
        "\n",
        "Features: [ 0.          0.          0.         ...  2.         11.39286041\n",
        " 11.39286041]\n",
        "Predicted Label: small pore    **for 0.95**"
      ],
      "metadata": {
        "id": "A07vD1-9co-2"
      }
    },
    {
      "cell_type": "markdown",
      "source": [
        "Features: [ 0.          0.          0.         ...  1.         27.74954033\n",
        " 27.7488308 ]\n",
        "Predicted Label: large pore\n",
        "\n",
        "Features: [0.      0.      0.      ... 3.      8.58041 8.58041]\n",
        "Predicted Label: large pore\n",
        "\n",
        "Features: [0.         0.         0.         ... 0.         5.64118004 5.64118004]\n",
        "Predicted Label: large pore\n",
        "\n",
        "Features: [ 0.          0.          0.         ...  2.         11.39286041\n",
        " 11.39286041]\n",
        "Predicted Label: small pore      **0.98**"
      ],
      "metadata": {
        "id": "qh0jIwxCL3Jv"
      }
    }
  ],
  "metadata": {
    "colab": {
      "provenance": [],
      "authorship_tag": "ABX9TyPZ4rxaFAp4snBXkyUM4mHj",
      "include_colab_link": true
    },
    "kernelspec": {
      "display_name": "Python 3",
      "name": "python3"
    },
    "language_info": {
      "name": "python"
    }
  },
  "nbformat": 4,
  "nbformat_minor": 0
}