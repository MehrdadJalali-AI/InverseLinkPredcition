{
  "nbformat": 4,
  "nbformat_minor": 0,
  "metadata": {
    "colab": {
      "provenance": [],
      "authorship_tag": "ABX9TyO3+JPntOYdyJcxiLldaXIn",
      "include_colab_link": true
    },
    "kernelspec": {
      "name": "python3",
      "display_name": "Python 3"
    },
    "language_info": {
      "name": "python"
    }
  },
  "cells": [
    {
      "cell_type": "markdown",
      "metadata": {
        "id": "view-in-github",
        "colab_type": "text"
      },
      "source": [
        "<a href=\"https://colab.research.google.com/github/MehrdadJalali-KIT/InverseLinkPredcition/blob/main/Lablacian_Spectrum_Sparcification.ipynb\" target=\"_parent\"><img src=\"https://colab.research.google.com/assets/colab-badge.svg\" alt=\"Open In Colab\"/></a>"
      ]
    },
    {
      "cell_type": "code",
      "execution_count": null,
      "metadata": {
        "id": "sKzskHHK4Ryw"
      },
      "outputs": [],
      "source": [
        "import pandas as pd\n",
        "import numpy as np\n",
        "import networkx as nx\n",
        "import matplotlib.pyplot as plt\n",
        "\n",
        "def calculate_laplacian_spectrum(edge_list_path):\n",
        "    # Load the graph from the edge list, assuming no header and columns are 'source', 'target'\n",
        "    edges = pd.read_csv(edge_list_path, header=None, names=['source', 'target'])\n",
        "    G = nx.from_pandas_edgelist(edges, 'source', 'target')\n",
        "\n",
        "    # Calculate the Laplacian matrix and its eigenvalues\n",
        "    L = nx.laplacian_matrix(G).toarray()\n",
        "    eigenvalues = np.linalg.eigvalsh(L)\n",
        "    sorted_eigenvalues = np.sort(eigenvalues)\n",
        "\n",
        "    return sorted_eigenvalues\n",
        "\n",
        "def plot_spectrum(edge_list_paths):\n",
        "    plt.figure(figsize=(12, 8))\n",
        "\n",
        "    for label, path in edge_list_paths.items():\n",
        "        sorted_eigenvalues = calculate_laplacian_spectrum(path)\n",
        "\n",
        "        # Plot the sorted eigenvalues\n",
        "        plt.plot(sorted_eigenvalues, label=label)\n",
        "\n",
        "    plt.title('Laplacian Spectrum Comparison')\n",
        "    plt.xlabel('Eigenvalue Index')\n",
        "    plt.ylabel('Eigenvalue')\n",
        "    plt.legend()\n",
        "    plt.grid(True)\n",
        "    plt.show()\n",
        "\n",
        "# Paths to the edge lists for the original and sparsified graphs\n",
        "edge_list_paths = {\n",
        "    # 'Original': 'edges_list_0.8_Full.csv',\n",
        "    'Sparsified 0.9': 'sparsified_graph_edges_0.9.csv',\n",
        "    # 'Sparsified 0.95': 'sparsified_graph_edges_0.95.csv',\n",
        "    # 'Sparsified 0.98': 'sparsified_graph_edges_0.98.csv'\n",
        "}\n",
        "\n",
        "plot_spectrum(edge_list_paths)\n"
      ]
    },
    {
      "cell_type": "code",
      "source": [
        "# Mount drive\n",
        "from google.colab import drive\n",
        "import os\n",
        "\n",
        "drive.mount('/content/drive')\n",
        "# Change working path\n",
        "os.chdir('/content/drive/MyDrive/Research/MOF/InverseLinkPredcition')"
      ],
      "metadata": {
        "colab": {
          "base_uri": "https://localhost:8080/"
        },
        "id": "zivUg3Lm5JGK",
        "outputId": "7995e0fc-2f86-4118-fc29-09e9d9c49970"
      },
      "execution_count": 2,
      "outputs": [
        {
          "output_type": "stream",
          "name": "stdout",
          "text": [
            "Drive already mounted at /content/drive; to attempt to forcibly remount, call drive.mount(\"/content/drive\", force_remount=True).\n"
          ]
        }
      ]
    }
  ]
}
