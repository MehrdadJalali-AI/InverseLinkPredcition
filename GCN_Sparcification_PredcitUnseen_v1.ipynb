{
  "nbformat": 4,
  "nbformat_minor": 0,
  "metadata": {
    "colab": {
      "provenance": [],
      "authorship_tag": "ABX9TyN4hwcJuhLathqxZ5Kcn6ow",
      "include_colab_link": true
    },
    "kernelspec": {
      "name": "python3",
      "display_name": "Python 3"
    },
    "language_info": {
      "name": "python"
    }
  },
  "cells": [
    {
      "cell_type": "markdown",
      "metadata": {
        "id": "view-in-github",
        "colab_type": "text"
      },
      "source": [
        "<a href=\"https://colab.research.google.com/github/MehrdadJalali-KIT/InverseLinkPredcition/blob/main/GCN_Sparcification_PredcitUnseen_v1.ipynb\" target=\"_parent\"><img src=\"https://colab.research.google.com/assets/colab-badge.svg\" alt=\"Open In Colab\"/></a>"
      ]
    },
    {
      "cell_type": "code",
      "execution_count": 26,
      "metadata": {
        "colab": {
          "base_uri": "https://localhost:8080/"
        },
        "id": "FsTtkJYcCB_l",
        "outputId": "8da18dfc-4e65-4f7e-fb8a-f096ac753e77"
      },
      "outputs": [
        {
          "output_type": "stream",
          "name": "stdout",
          "text": [
            "1/1 [==============================] - 0s 87ms/step\n",
            "Predicted PLD sizes for unseen data:\n",
            "['small pore', 'nonporous', 'small pore', 'medium pore']\n"
          ]
        }
      ],
      "source": [
        "import pandas as pd\n",
        "import numpy as np\n",
        "from rdkit import Chem\n",
        "from rdkit.Chem import AllChem\n",
        "from sklearn.preprocessing import StandardScaler\n",
        "from tensorflow.keras.models import load_model\n",
        "\n",
        "# Function to generate a molecular fingerprint given a SMILES string\n",
        "def generate_fingerprint(smiles):\n",
        "    try:\n",
        "        mol = Chem.MolFromSmiles(smiles)\n",
        "        if mol is None:\n",
        "            return np.zeros((1024,), dtype=float)  # Return an array of zeros if molecule can't be parsed\n",
        "        return np.array(AllChem.GetMorganFingerprintAsBitVect(mol, 2, nBits=1024), dtype=float)\n",
        "    except Exception as e:\n",
        "        print(f\"SMILES Parse Error: {e}\")\n",
        "        return np.zeros((1024,), dtype=float)  # Return an array of zeros in case of an error\n",
        "\n",
        "# Function to preprocess unseen MOF data to match the format used in model training\n",
        "def preprocess_unseen_data(unseen_data):\n",
        "    linker_features = np.stack(unseen_data['SMILES'].apply(generate_fingerprint))\n",
        "    metal_features = label_encode_metal_names(unseen_data['Metal']).reshape(-1, 1)\n",
        "    other_features = unseen_data[['Largest Cavity Diameter', 'Largest Free Sphere']].values.astype('float32')\n",
        "    features = np.concatenate((linker_features, metal_features, other_features), axis=1)\n",
        "    return features\n",
        "\n",
        "# Function to preprocess features\n",
        "def preprocess_features(features):\n",
        "    scaler = StandardScaler()\n",
        "    return scaler.fit_transform(features)\n",
        "\n",
        "# Function to predict PLD sizes for unseen MOF data\n",
        "def predict_PLD(model, unseen_data):\n",
        "    features = preprocess_unseen_data(unseen_data)\n",
        "    features = preprocess_features(features)\n",
        "    predictions = model.predict(features)\n",
        "    PLD_categories = np.argmax(predictions, axis=1)\n",
        "    PLD_labels = ['nonporous', 'small pore', 'medium pore', 'large pore']\n",
        "    PLD_predictions = [PLD_labels[idx] for idx in PLD_categories]\n",
        "    return PLD_predictions\n",
        "\n",
        "# Function to label encode metal names as integers\n",
        "def label_encode_metal_names(metal_names):\n",
        "    \"\"\"Encodes metal names as integers.\"\"\"\n",
        "    metal_dict = {metal: idx for idx, metal in enumerate(np.unique(metal_names))}\n",
        "    return np.array([metal_dict[metal] for metal in metal_names])\n",
        "\n",
        "if __name__ == \"__main__\":\n",
        "    # Load the saved GCN model\n",
        "    model = load_model(\"gcn_model.h5\")\n",
        "\n",
        "    # Define unseen MOF data with metal information and additional features\n",
        "    unseen_data = pd.DataFrame({\n",
        "        'SMILES': [\n",
        "            'OC(=O)/C=C/c1ccc(cc1)',\n",
        "            'CC(C)(C)OC(=O)NC1=CC=C(C=C1)N',\n",
        "            'COC(=O)C1=CC=C(C=C1)NC(=O)OCC(C)C',\n",
        "            'C1=CC=C(C=C1)NC(=O)OCC2=CC=CC=C2'\n",
        "        ],\n",
        "        'Metal': ['Fe', 'Fe', 'Zn', 'Ni'],  # Example metal information\n",
        "        'Largest Cavity Diameter': [11.05942, 6.0, 7.0, 8.0],  # Example largest cavity diameter\n",
        "        'Largest Free Sphere': [9.05073, 11.0, 12.0, 13.0]  # Example largest free sphere\n",
        "    })\n",
        "\n",
        "    # Predict PLD sizes for unseen data\n",
        "    PLD_predictions = predict_PLD(model, unseen_data)\n",
        "    print(\"Predicted PLD sizes for unseen data:\")\n",
        "    print(PLD_predictions)\n"
      ]
    },
    {
      "cell_type": "code",
      "source": [
        "!pip install rdkit"
      ],
      "metadata": {
        "colab": {
          "base_uri": "https://localhost:8080/"
        },
        "id": "gH5iPO3GCP4w",
        "outputId": "6c89b35d-6e7a-4332-d4ef-c00b809d236e"
      },
      "execution_count": 2,
      "outputs": [
        {
          "output_type": "stream",
          "name": "stdout",
          "text": [
            "Collecting rdkit\n",
            "  Downloading rdkit-2023.9.5-cp310-cp310-manylinux_2_17_x86_64.manylinux2014_x86_64.whl (34.4 MB)\n",
            "\u001b[2K     \u001b[90m━━━━━━━━━━━━━━━━━━━━━━━━━━━━━━━━━━━━━━━━\u001b[0m \u001b[32m34.4/34.4 MB\u001b[0m \u001b[31m15.3 MB/s\u001b[0m eta \u001b[36m0:00:00\u001b[0m\n",
            "\u001b[?25hRequirement already satisfied: numpy in /usr/local/lib/python3.10/dist-packages (from rdkit) (1.25.2)\n",
            "Requirement already satisfied: Pillow in /usr/local/lib/python3.10/dist-packages (from rdkit) (9.4.0)\n",
            "Installing collected packages: rdkit\n",
            "Successfully installed rdkit-2023.9.5\n"
          ]
        }
      ]
    },
    {
      "cell_type": "code",
      "source": [
        "# Mount drive\n",
        "from google.colab import drive\n",
        "import os\n",
        "\n",
        "drive.mount('/content/drive')\n",
        "# Change working path\n",
        "os.chdir('/content/drive/MyDrive/Research/MOF/InverseLinkPredcition')"
      ],
      "metadata": {
        "colab": {
          "base_uri": "https://localhost:8080/"
        },
        "id": "Mp7VvNXRCSWw",
        "outputId": "616d3405-ae16-4eef-fc72-114c45d65490"
      },
      "execution_count": 1,
      "outputs": [
        {
          "output_type": "stream",
          "name": "stdout",
          "text": [
            "Mounted at /content/drive\n"
          ]
        }
      ]
    }
  ]
}